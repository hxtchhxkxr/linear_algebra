{
  "nbformat": 4,
  "nbformat_minor": 0,
  "metadata": {
    "colab": {
      "provenance": [],
      "authorship_tag": "ABX9TyPwemhBUAdomMQzXiYrxQjp",
      "include_colab_link": true
    },
    "kernelspec": {
      "name": "python3",
      "display_name": "Python 3"
    },
    "language_info": {
      "name": "python"
    }
  },
  "cells": [
    {
      "cell_type": "markdown",
      "metadata": {
        "id": "view-in-github",
        "colab_type": "text"
      },
      "source": [
        "<a href=\"https://colab.research.google.com/github/exmbd/homework/blob/main/Untitled12.ipynb\" target=\"_parent\"><img src=\"https://colab.research.google.com/assets/colab-badge.svg\" alt=\"Open In Colab\"/></a>"
      ]
    },
    {
      "cell_type": "code",
      "execution_count": 1,
      "metadata": {
        "colab": {
          "base_uri": "https://localhost:8080/"
        },
        "id": "_HPzHROshGGR",
        "outputId": "2f33e851-33b1-4b39-d1b4-98b02996993f"
      },
      "outputs": [
        {
          "output_type": "stream",
          "name": "stdout",
          "text": [
            "11\n",
            "-6\n"
          ]
        }
      ],
      "source": [
        "import numpy as np\n",
        "a = np.array([1,2])\n",
        "b = np.array([3,4])\n",
        "print(np.dot(a,b))\n",
        "\n",
        "a = np.array([1,3,4])\n",
        "b = np.array([0,2,-3])\n",
        "print(np.dot(a,b))"
      ]
    },
    {
      "cell_type": "code",
      "source": [
        "import numpy as np\n",
        "a = np.array([4,3,1])\n",
        "b = np.array([-5,2,1])\n",
        "print(np.cross(a,b))\n",
        "\n",
        "a = np.array([1,2])\n",
        "b = np.array([3,5])\n",
        "print(np.cross(a,b))"
      ],
      "metadata": {
        "colab": {
          "base_uri": "https://localhost:8080/"
        },
        "id": "45CgxCgyiUiM",
        "outputId": "ca22937b-16b1-4a9f-a650-f6d75463d7d7"
      },
      "execution_count": null,
      "outputs": [
        {
          "output_type": "stream",
          "name": "stdout",
          "text": [
            "[ 1 -9 23]\n",
            "-1\n"
          ]
        }
      ]
    },
    {
      "cell_type": "code",
      "source": [
        "import numpy as np\n",
        "\n",
        "P = np.array([1,-1,1])\n",
        "Q = np.array([1,3,6])\n",
        "R = np.array([2,-5,3])\n",
        "\n",
        "PQ = Q-P\n",
        "PR = R-P\n",
        "\n",
        "print(PQ)\n",
        "print(PR)\n",
        "print(np.cross(PQ,PR))"
      ],
      "metadata": {
        "colab": {
          "base_uri": "https://localhost:8080/"
        },
        "id": "eLhikve_ixfH",
        "outputId": "c1643ef1-6f2e-42f7-fed5-62e4e05c1ce0"
      },
      "execution_count": null,
      "outputs": [
        {
          "output_type": "stream",
          "name": "stdout",
          "text": [
            "[0 4 5]\n",
            "[ 1 -4  2]\n",
            "[28  5 -4]\n"
          ]
        }
      ]
    },
    {
      "cell_type": "code",
      "source": [],
      "metadata": {
        "id": "FS7pvg3IpTzh"
      },
      "execution_count": null,
      "outputs": []
    },
    {
      "cell_type": "code",
      "source": [
        "import numpy as np\n",
        "\n",
        "class VECTOR3D:\n",
        "  def __init__(self,x,y,z):\n",
        "    self.x = x; self.y = y; self.z = z\n",
        "  def magnitude(self):\n",
        "    return np.sqrt(self.x*self.x + self.y*self.y + self.z*self.z)\n",
        "  def inner_product(self,v1):\n",
        "    return self.x*v1.x + self.y*v1.y + self.z*v1.z\n",
        "  def cross_product(self,v1):\n",
        "    return VECTOR3D(self.y*v1.z-self.z*v1.y, self.z*v1.x-self.x*v1.z, self.x*v1.y-self.y*v1.x)\n",
        "\n",
        "v1 = VECTOR3D(1,2,3)\n",
        "v2 = VECTOR3D(2,5,-7)\n",
        "print(v1.magnitude())\n",
        "print(v2.magnitude())\n",
        "print(v1.inner_product(v2))\n",
        "v1Xv2 = v1.cross_product(v2)\n",
        "print(\"(\",v1Xv2.x,\",\",v1Xv2.y,\",\",v1Xv2.z,\")\")"
      ],
      "metadata": {
        "colab": {
          "base_uri": "https://localhost:8080/"
        },
        "id": "Dyyl1n6-jUXo",
        "outputId": "2f81fa01-17c0-4437-c43b-02b9ae10aa6b"
      },
      "execution_count": null,
      "outputs": [
        {
          "output_type": "stream",
          "name": "stdout",
          "text": [
            "3.7416573867739413\n",
            "8.831760866327848\n",
            "-9\n",
            "( -29 , 13 , 1 )\n"
          ]
        }
      ]
    },
    {
      "cell_type": "code",
      "source": [
        "import numpy as np\n",
        "\n",
        "class VECTOR3D:\n",
        "  def __init__(self,a,b,c):\n",
        "    self.a = a; self.b = b; self.c = c\n",
        "  def first(self):\n",
        "    return ()"
      ],
      "metadata": {
        "id": "9pfyzrn0kmC0"
      },
      "execution_count": null,
      "outputs": []
    },
    {
      "cell_type": "code",
      "source": [
        "import numpy as np\n",
        "\n",
        "a = np.array([1,-1,1])\n",
        "b = np.array([1,3,6])\n",
        "c = np.array([2,-5,3])\n",
        "\n",
        "k = 4\n",
        "\n",
        "result1 = np.dot(a+b,c)\n",
        "print(result1)\n",
        "result2 = np.dot(a,c)+np.dot(b,c)\n",
        "print(result2)\n",
        "\n",
        "result3 = np.dot(k*a,b)\n",
        "result4 = k*np.dot(a,b)\n",
        "result5 = np.dot(a,k*b)\n",
        "print(result3)\n",
        "print(result4)\n",
        "print(result5)"
      ],
      "metadata": {
        "colab": {
          "base_uri": "https://localhost:8080/"
        },
        "id": "cuXBWDUupVFk",
        "outputId": "80eb1b08-abcf-4b18-f8f3-850b95f958f0"
      },
      "execution_count": null,
      "outputs": [
        {
          "output_type": "stream",
          "name": "stdout",
          "text": [
            "15\n",
            "15\n",
            "16\n",
            "16\n",
            "16\n"
          ]
        }
      ]
    }
  ]
}