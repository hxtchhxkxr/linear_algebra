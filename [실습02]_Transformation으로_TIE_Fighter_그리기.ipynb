{
  "nbformat": 4,
  "nbformat_minor": 0,
  "metadata": {
    "colab": {
      "provenance": [],
      "include_colab_link": true
    },
    "kernelspec": {
      "name": "python3",
      "display_name": "Python 3"
    },
    "language_info": {
      "name": "python"
    }
  },
  "cells": [
    {
      "cell_type": "markdown",
      "metadata": {
        "id": "view-in-github",
        "colab_type": "text"
      },
      "source": [
        "<a href=\"https://colab.research.google.com/github/exmbd/homework/blob/main/%5B%EC%8B%A4%EC%8A%B502%5D_Transformation%EC%9C%BC%EB%A1%9C_TIE_Fighter_%EA%B7%B8%EB%A6%AC%EA%B8%B0.ipynb\" target=\"_parent\"><img src=\"https://colab.research.google.com/assets/colab-badge.svg\" alt=\"Open In Colab\"/></a>"
      ]
    },
    {
      "cell_type": "markdown",
      "source": [
        "### 라이브러리 선언"
      ],
      "metadata": {
        "id": "VcKvO8KcJ9AJ"
      }
    },
    {
      "cell_type": "code",
      "source": [
        "import numpy as np\n",
        "import matplotlib.pyplot as plt\n",
        "from matplotlib.patches import Polygon\n",
        "\n",
        "INF = 1000  # 그림판 크기\n",
        "LEN = 100   # 처음 사각형의 크기"
      ],
      "metadata": {
        "id": "uwkBDldBERem"
      },
      "execution_count": 1,
      "outputs": []
    },
    {
      "cell_type": "markdown",
      "source": [
        "### 축 그리기 및 사각형 그리기"
      ],
      "metadata": {
        "id": "eSiS-XHya1FY"
      }
    },
    {
      "cell_type": "code",
      "source": [
        "def draw_axis(ax):\n",
        "  ax.axhline(0, color='black', alpha=0.3)  # x-axis line\n",
        "  ax.axvline(0, color='black', alpha=0.3)  # y-axis line\n",
        "  ax.set_xlim(-INF, INF)\n",
        "  ax.set_ylim(-INF, INF)\n",
        "  ax.set_aspect('equal')  # 정사각형 모양으로 backboard 그리기"
      ],
      "metadata": {
        "id": "_fc5wJBeKXDN"
      },
      "execution_count": 2,
      "outputs": []
    },
    {
      "cell_type": "code",
      "source": [
        "def draw_rectangle(ax, p1, p2, p3, p4):\n",
        "  my_polygon = Polygon([p1, p2, p3, p4])\n",
        "  ax.add_patch(my_polygon)"
      ],
      "metadata": {
        "id": "0XC7sFs9Hf3e"
      },
      "execution_count": 3,
      "outputs": []
    },
    {
      "cell_type": "markdown",
      "source": [
        "### 본론\n",
        "#### 1. 변환 구현\n",
        "* translate(p, dx, dy)\n",
        "* rotate(p, theta)  \n",
        "* scale(p, sx, sy)  \n",
        "* shear_x(p, sx)  \n",
        "* shear_y(p, sy)  \n",
        "* reflect_x(p)  \n",
        "* reflect_y(p)   \n",
        "* reflect_0(p)\n",
        "* reflect_yx(p)"
      ],
      "metadata": {
        "id": "6txnl6M2PeUz"
      }
    },
    {
      "cell_type": "code",
      "source": [
        "# 점 p를 x축 방향으로 dx만큼, y축 방향으로 dy만큼 이동시킨 점 q를 구할 것\n",
        "# q = T(dx, dy) p1\n",
        "def translate(p, dx, dy):\n",
        "  # 1. 동차좌표계 (homogeneous coordinate)으로 변환\n",
        "  hp = np.array([p[0], p[1], 1.0])\n",
        "\n",
        "  # 2. 이동 변환 행렬 생성\n",
        "  m = np.array([[1.0, 0.0, dx], [0.0, 1.0, dy], [0.0, 0.0, 1.0]])\n",
        "  \n",
        "  # 3. 행렬과 벡터의 곱\n",
        "  q = np.dot(m, hp)\n",
        "  \n",
        "  # 4. 2차원 좌표계로 변환\n",
        "  q = np.array([q[0], q[1]])\n",
        "  return q"
      ],
      "metadata": {
        "id": "g1iKgeNoP-Bu"
      },
      "execution_count": 4,
      "outputs": []
    },
    {
      "cell_type": "code",
      "source": [
        "# 점 p를 반시계 방향으로 theta만큼 회전시킨 점 q를 구할 것\n",
        "# q = R(theta) p1\n",
        "def rotate(p, theta):\n",
        "  # 1. 동차좌표계 (homogeneous coordinate)으로 변환\n",
        "  hp = np.array([p[0], p[1], 1.0])\n",
        "\n",
        "  # 2. 회전 변환 행렬 생성\n",
        "  m = np.array([[np.cos(theta), -1*np.sin(theta), 0.0], [np.sin(theta), np.cos(theta), 0.0], [0.0, 0.0, 1.0]])\n",
        "\n",
        "  # 3. 행렬과 벡터의 곱\n",
        "  q = np.dot(m, hp)\n",
        "\n",
        "  # 4. 2차원 좌표계로 변환\n",
        "  q = np.array([q[0], q[1]])\n",
        "  return q"
      ],
      "metadata": {
        "id": "-lpdoDn-aJZo"
      },
      "execution_count": 5,
      "outputs": []
    },
    {
      "cell_type": "code",
      "source": [
        "# 점 p를 x축 방향으로 sx만큼, y축 방향으로 sy만큼 확대 또는 축소한 점 q를 구할 것\n",
        "# q = S(sx, sy) p1\n",
        "def scale(p, sx, sy):\n",
        "  # 1. 동차좌표계 (homogeneous coordinate)으로 변환\n",
        "  hp = np.array([p[0], p[1], 1.0])\n",
        "\n",
        "  # 2. 크기 변환 행렬 생성\n",
        "  m = np.array([[sx, 0.0, 0.0], [0.0, sy, 0.0], [0.0, 0.0, 1.0]])\n",
        "\n",
        "  # 3. 행렬과 벡터의 곱\n",
        "  q = np.dot(m, hp)\n",
        "  \n",
        "  # 4. 2차원 좌표계로 변환\n",
        "  q = np.array([q[0], q[1]])\n",
        "  return q"
      ],
      "metadata": {
        "id": "pzBv0tXsgWRd"
      },
      "execution_count": 6,
      "outputs": []
    },
    {
      "cell_type": "code",
      "source": [
        "# 점 p를 x축에 대해 sx만큼 기울기를 변환한 점 q를 구할 것\n",
        "# q = Shx(sx)\n",
        "def shear_x(p, sx):\n",
        "  # 1. 동차좌표계 (homogeneous coordinate)으로 변환\n",
        "  hp = np.array([p[0], p[1], 1.0])\n",
        "\n",
        "  # 2. x축에 대한 기울기 변환 행렬 생성\n",
        "  m = np.array([[1.0, sx, 0.0], [0.0, 1.0, 0.0], [0.0, 0.0, 1.0]])\n",
        "\n",
        "  # 3. 행렬과 벡터의 곱\n",
        "  q = np.dot(m, hp)\n",
        "  \n",
        "  # 4. 2차원 좌표계로 변환\n",
        "  q = np.array([q[0], q[1]])\n",
        "  return q"
      ],
      "metadata": {
        "id": "t1AuS4ZIgWmE"
      },
      "execution_count": 7,
      "outputs": []
    },
    {
      "cell_type": "code",
      "source": [
        "# 점 p를 x축에 대해 sy만큼 기울기를 변환한 점 q를 구할 것\n",
        "# q = Shy(sy)\n",
        "def shear_y(p, sy):\n",
        "  # 1. 동차좌표계 (homogeneous coordinate)으로 변환\n",
        "  hp = np.array([p[0], p[1], 1.0])\n",
        "\n",
        "  # 2. y축에 대한 기울기 변환 행렬 생성\n",
        "  m = np.array([[1.0, 0.0, 0.0], [sy, 1.0, 0.0], [0.0, 0.0, 1.0]])\n",
        "\n",
        "  # 3. 행렬과 벡터의 곱\n",
        "  q = np.dot(m, hp)\n",
        "  \n",
        "  # 4. 2차원 좌표계로 변환\n",
        "  q = np.array([q[0], q[1]])\n",
        "  return q"
      ],
      "metadata": {
        "id": "NXlqevX-ndnh"
      },
      "execution_count": 8,
      "outputs": []
    },
    {
      "cell_type": "code",
      "source": [
        "# 점 p를 x축에 대해 반전시킨 점 q를 구할 것\n",
        "# q = Rfx\n",
        "def reflect_x(p):\n",
        "  # 1. 동차좌표계 (homogeneous coordinate)으로 변환\n",
        "  hp = np.array([p[0], p[1], 1.0])\n",
        "\n",
        "  # 2. x축에 대한 반전 행렬 생성\n",
        "  m = np.array([[1.0, 0.0, 0.0], [0.0, -1.0, 0.0], [0.0, 0.0, 1.0]])\n",
        "\n",
        "  # 3. 행렬과 벡터의 곱\n",
        "  q = np.dot(m, hp)\n",
        "  \n",
        "  # 4. 2차원 좌표계로 변환\n",
        "  q = np.array([q[0], q[1]])\n",
        "  return q"
      ],
      "metadata": {
        "id": "Vlu-WRQZnsvB"
      },
      "execution_count": 77,
      "outputs": []
    },
    {
      "cell_type": "code",
      "source": [
        "# 점 p를 y축에 대해 반전시킨 점 q를 구할 것\n",
        "# q = Rfy\n",
        "def reflect_y(p):\n",
        "  # 1. 동차좌표계 (homogeneous coordinate)으로 변환\n",
        "  hp = np.array([p[0], p[1], 1.0])\n",
        "\n",
        "  # 2. y축에 대한 반전 행렬 생성\n",
        "  m = np.array([[-1.0, 0.0, 0.0], [0.0, 1.0, 0.0], [0.0, 0.0, 1.0]])\n",
        "\n",
        "  # 3. 행렬과 벡터의 곱\n",
        "  q = np.dot(m, hp)\n",
        "  \n",
        "  # 4. 2차원 좌표계로 변환\n",
        "  q = np.array([q[0], q[1]])\n",
        "  return q"
      ],
      "metadata": {
        "id": "rbeamT54og1r"
      },
      "execution_count": 78,
      "outputs": []
    },
    {
      "cell_type": "code",
      "source": [
        "# 점 p를 원점에 대해 반전시킨 점 q를 구할 것\n",
        "# q = Rf0\n",
        "def reflect_0(p):\n",
        "  # 1. 동차좌표계 (homogeneous coordinate)으로 변환\n",
        "  hp = np.array([p[0], p[1], 1.0])\n",
        "\n",
        "  # 2. 원점에 대한 반전 행렬 생성\n",
        "  m = np.array([[-1.0, 0.0, 0.0], [0.0, -1.0, 0.0], [0.0, 0.0, 1.0]])\n",
        "\n",
        "  # 3. 행렬과 벡터의 곱\n",
        "  q = np.dot(m, hp)\n",
        "  \n",
        "  # 4. 2차원 좌표계로 변환\n",
        "  q = np.array([q[0], q[1]])\n",
        "  return q"
      ],
      "metadata": {
        "id": "P0WcRdLgpMBX"
      },
      "execution_count": 11,
      "outputs": []
    },
    {
      "cell_type": "code",
      "source": [
        "# 점 p를 y=x에 대해 반전시킨 점 q를 구할 것\n",
        "# q = Rfy=x\n",
        "def reflect_yx(p):\n",
        "  # 1. 동차좌표계 (homogeneous coordinate)으로 변환\n",
        "  hp = np.array([p[0], p[1], 1.0])\n",
        "\n",
        "  # 2. 원점에 대한 반전 행렬 생성\n",
        "  m = np.array([[0.0, 1.0, 0.0], [1.0, 0.0, 0.0], [0.0, 0.0, 1.0]])\n",
        "\n",
        "  # 3. 행렬과 벡터의 곱\n",
        "  q = np.dot(m, hp)\n",
        "  \n",
        "  # 4. 2차원 좌표계로 변환\n",
        "  q = np.array([q[0], q[1]])\n",
        "  return q"
      ],
      "metadata": {
        "id": "ZqAYwtp6plpt"
      },
      "execution_count": 12,
      "outputs": []
    },
    {
      "cell_type": "markdown",
      "source": [
        "#### 2. 파트 그리기\n",
        "* draw_cockpit(p1, p2, p3, p4)    # 중앙 조종석\n",
        "* draw_left_arm(p1, p2, p3, p4)   # 왼쪽 날개축\n",
        "* draw_left_wing(p1, p2, p3, p4)  # 왼쪽 날개\n",
        "* draw_right_arm(p1, p2, p3, p4)  # 오른쪽 날개축\n",
        "* draw_right_wing(p1, p2, p3, p4) # 오른쪽 날개"
      ],
      "metadata": {
        "id": "E_jHSezpTC-9"
      }
    },
    {
      "cell_type": "code",
      "source": [
        "# 중앙 조종석\n",
        "def draw_cockpit(ax, p1, p2, p3, p4):  \n",
        "  # 1. 사각형을 원점으로 이동 변환: T(-LEN/2, -LEN/2)\n",
        "  # q = T(-LEN/2, -LEN/2)p\n",
        "  q1 = translate(p1, -LEN/2, -LEN/2)\n",
        "  q2 = translate(p2, -LEN/2, -LEN/2)\n",
        "  q3 = translate(p3, -LEN/2, -LEN/2)\n",
        "  q4 = translate(p4, -LEN/2, -LEN/2)\n",
        "\n",
        "  # 2. 크기 변환: S(5, 5)\n",
        "  s = 5\n",
        "  q1 = scale(q1, s, s)\n",
        "  q2 = scale(q2, s, s)\n",
        "  q3 = scale(q3, s, s)\n",
        "  q4 = scale(q4, s, s)\n",
        " \n",
        "  # 3. 회전 변환: R(pi/4)\n",
        "  q1 = rotate(q1, 3.14/4.0)\n",
        "  q2 = rotate(q2, 3.14/4.0)\n",
        "  q3 = rotate(q3, 3.14/4.0)\n",
        "  q4 = rotate(q4, 3.14/4.0)\n",
        "\n",
        "  # 4. polygon 그리기 \n",
        "  draw_rectangle(ax, q1, q2, q3, q4)"
      ],
      "metadata": {
        "id": "6C7a4CH4HSj0"
      },
      "execution_count": 13,
      "outputs": []
    },
    {
      "cell_type": "code",
      "source": [
        "# 왼쪽 날개축\n",
        "def draw_left_arm(ax, p1, p2, p3, p4):\n",
        "  q1 = translate(p1, 0.0, 140.0)\n",
        "  q2 = translate(p2, 420.0, 0.0)\n",
        "  q3 = translate(p3, 750.0, -1*LEN)\n",
        "  q4 = translate(p4, 0.0, 160.0)\n",
        "  \n",
        "  r1 = reflect_x(q1)\n",
        "  r2 = reflect_x(q2)\n",
        "  r3 = reflect_x(q3)\n",
        "  r4 = reflect_x(q4)\n",
        "\n",
        "  draw_rectangle(ax, q1, q2, q3, q4)\n",
        "  draw_rectangle(ax, r1, r2, r3, r4)"
      ],
      "metadata": {
        "id": "AUdQAd_c3TTm"
      },
      "execution_count": 88,
      "outputs": []
    },
    {
      "cell_type": "code",
      "source": [
        "# 왼쪽 날개\n",
        "def draw_left_wing(ax, p1, p2, p3, p4):  \n",
        "  q1 = translate(p1, 0.0, -350.0)\n",
        "  q2 = translate(p2, 0.0, -500.0)\n",
        "  q3 = translate(p3, 0.0, 500.0)\n",
        "  q4 = translate(p4, 0.0, 350.0)\n",
        "\n",
        "  q1 = scale(q1, 1.3, 1.0)\n",
        "  q2 = scale(q2, 1.3, 1.0)\n",
        "  q3 = scale(q3, 1.3, 1.0)\n",
        "  q4 = scale(q4, 1.3, 1.0)\n",
        "\n",
        "  q1 = translate(q1, 710.0, -LEN/2)\n",
        "  q2 = translate(q2, 710.0, -LEN/2)\n",
        "  q3 = translate(q3, 710.0, -LEN/2)\n",
        "  q4 = translate(q4, 710.0, -LEN/2)\n",
        "\n",
        "  draw_rectangle(ax, q1, q2, q3, q4)"
      ],
      "metadata": {
        "id": "QfQDoej2XH98"
      },
      "execution_count": 94,
      "outputs": []
    },
    {
      "cell_type": "code",
      "source": [
        "# 오른쪽 날개축\n",
        "def draw_right_arm(ax, p1, p2, p3, p4):\n",
        "  q1 = translate(p1, 0.0, 140.0)\n",
        "  q2 = translate(p2, 420.0, 0.0)\n",
        "  q3 = translate(p3, 750.0, -1*LEN)\n",
        "  q4 = translate(p4, 0.0, 160.0)\n",
        "  \n",
        "  r1 = reflect_y(q1)\n",
        "  r2 = reflect_y(q2)\n",
        "  r3 = reflect_y(q3)\n",
        "  r4 = reflect_y(q4)\n",
        "\n",
        "  s1 = reflect_x(r1)\n",
        "  s2 = reflect_x(r2)\n",
        "  s3 = reflect_x(r3)\n",
        "  s4 = reflect_x(r4)\n",
        "\n",
        "  draw_rectangle(ax, r1, r2, r3, r4)\n",
        "  draw_rectangle(ax, s1, s2, s3, s4)"
      ],
      "metadata": {
        "id": "lhd9nd0vnDWs"
      },
      "execution_count": 103,
      "outputs": []
    },
    {
      "cell_type": "code",
      "source": [
        "# 오른쪽 날개\n",
        "def draw_right_wing(ax, p1, p2, p3, p4):\n",
        "  q1 = translate(p1, 0.0, -350.0)\n",
        "  q2 = translate(p2, 0.0, -500.0)\n",
        "  q3 = translate(p3, 0.0, 500.0)\n",
        "  q4 = translate(p4, 0.0, 350.0)\n",
        "\n",
        "  q1 = scale(q1, 1.3, 1.0)\n",
        "  q2 = scale(q2, 1.3, 1.0)\n",
        "  q3 = scale(q3, 1.3, 1.0)\n",
        "  q4 = scale(q4, 1.3, 1.0)\n",
        "\n",
        "  q1 = reflect_y(q1)\n",
        "  q2 = reflect_y(q2)\n",
        "  q3 = reflect_y(q3)\n",
        "  q4 = reflect_y(q4)\n",
        "\n",
        "  q1 = translate(q1, -710.0, -LEN/2)\n",
        "  q2 = translate(q2, -710.0, -LEN/2)\n",
        "  q3 = translate(q3, -710.0, -LEN/2)\n",
        "  q4 = translate(q4, -710.0, -LEN/2)\n",
        "\n",
        "  draw_rectangle(ax, q1, q2, q3, q4)"
      ],
      "metadata": {
        "id": "Eg2fvpIjoZMi"
      },
      "execution_count": 108,
      "outputs": []
    },
    {
      "cell_type": "code",
      "source": [
        " # 날개 디테일 추가\n",
        " def draw_detail(ax, p1, p2, p3, p4):\n",
        "\n",
        "  s = 2.4\n",
        "  q1 = scale(p1, s, s)\n",
        "  q2 = scale(p2, s, s)\n",
        "  q3 = scale(p3, s, s)\n",
        "  q4 = scale(p4, s, s)\n",
        "\n",
        "  q1 = shear_y(q1, 1.0)\n",
        "  q2 = shear_y(q2, 1.0)\n",
        "  q3 = shear_y(q3, 1.0)\n",
        "  q4 = shear_y(q4, 1.0)\n",
        "\n",
        "  q1 = reflect_y(q1)\n",
        "  q2 = reflect_y(q2)\n",
        "  q3 = reflect_y(q3)\n",
        "  q4 = reflect_y(q4)\n",
        "\n",
        "  q1 = scale(q1, 1.5, 0.8)\n",
        "  q2 = scale(q2, 1.5, 1.0)\n",
        "  q3 = scale(q3, 1.5, 0.8)\n",
        "  q4 = scale(q4, 1.5, 0.8)\n",
        "\n",
        "  q1 = translate(q1, -LEN/2, -LEN/2)\n",
        "  q2 = translate(q2, -LEN/2, -LEN/2)\n",
        "  q3 = translate(q3, -LEN/2, -LEN/2)\n",
        "  q4 = translate(q4, -LEN/2, -LEN/2)\n",
        "\n",
        "  a1 = translate(q1, 870.0, 400.0)\n",
        "  a2 = translate(q2, 870.0, 400.0)\n",
        "  a3 = translate(q3, 870.0, 400.0)\n",
        "  a4 = translate(q4, 870.0, 400.0)\n",
        "\n",
        "  b1 = reflect_x(a1)\n",
        "  b2 = reflect_x(a2)\n",
        "  b3 = reflect_x(a3)\n",
        "  b4 = reflect_x(a4)\n",
        "\n",
        "  c1 = reflect_y(a1)\n",
        "  c2 = reflect_y(a2)\n",
        "  c3 = reflect_y(a3)\n",
        "  c4 = reflect_y(a4)\n",
        "\n",
        "  d1 = reflect_x(c1)\n",
        "  d2 = reflect_x(c2)\n",
        "  d3 = reflect_x(c3)\n",
        "  d4 = reflect_x(c4)\n",
        "\n",
        "  draw_rectangle(ax, a1, a2, a3, a4)\n",
        "  draw_rectangle(ax, b1, b2, b3, b4)\n",
        "  draw_rectangle(ax, c1, c2, c3, c4)\n",
        "  draw_rectangle(ax, d1, d2, d3, d4)"
      ],
      "metadata": {
        "id": "fyaQexyypXQa"
      },
      "execution_count": 162,
      "outputs": []
    },
    {
      "cell_type": "code",
      "execution_count": 115,
      "metadata": {
        "id": "hMI0xB0pDlnU"
      },
      "outputs": [],
      "source": [
        "# 2. tiefigher 그리기\n",
        "def draw_object(ax):\n",
        "  p1 = np.array([0, 0])\n",
        "  p2 = np.array([LEN, 0])\n",
        "  p3 = np.array([LEN, LEN])\n",
        "  p4 = np.array([0, LEN])\n",
        "\n",
        "  # 1. 중앙 조종석 그리기\n",
        "  draw_cockpit(ax, p1, p2, p3, p4)\n",
        "\n",
        "  # 2. 왼쪽 날개축 그리기\n",
        "  draw_left_arm(ax, p1, p2, p3, p4)\n",
        "\n",
        "  # 3. 왼쪽 날개 그리기\n",
        "  draw_left_wing(ax, p1, p2, p3, p4)\n",
        "\n",
        "  # 4. 오른쪽 날개축 그리기\n",
        "  draw_right_arm(ax, p1, p2, p3, p4)\n",
        "\n",
        "  # 5. 오른쪽 날개 그리기\n",
        "  draw_right_wing(ax, p1, p2, p3, p4)\n",
        "\n",
        "  draw_detail(ax, p1, p2, p3, p4)"
      ]
    },
    {
      "cell_type": "markdown",
      "source": [
        "### 3. main"
      ],
      "metadata": {
        "id": "24hO1zQaHiFJ"
      }
    },
    {
      "cell_type": "code",
      "source": [
        "# 그림판 선언 및 크기 설정\n",
        "fig, ax = plt.subplots(figsize=(7,7))\n",
        "\n",
        "# 축 그리기\n",
        "draw_axis(ax)\n",
        "\n",
        "# 물체 그리기\n",
        "draw_object(ax)\n",
        "\n",
        "plt.show()"
      ],
      "metadata": {
        "colab": {
          "base_uri": "https://localhost:8080/",
          "height": 605
        },
        "id": "1Bdz-KxWLLHb",
        "outputId": "be19100c-ead8-4f69-b7ff-1ed0807f3b1d"
      },
      "execution_count": 163,
      "outputs": [
        {
          "output_type": "display_data",
          "data": {
            "text/plain": [
              "<Figure size 700x700 with 1 Axes>"
            ],
            "image/png": "[encoded data removed]"
          },
          "metadata": {}
        }
      ]
    }
  ]
}